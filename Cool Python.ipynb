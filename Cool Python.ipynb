{
 "cells": [
  {
   "cell_type": "markdown",
   "metadata": {
    "slideshow": {
     "slide_type": "-"
    }
   },
   "source": [
    "# Cool Python"
   ]
  },
  {
   "cell_type": "code",
   "execution_count": null,
   "metadata": {},
   "outputs": [],
   "source": [
    "# The pythonic start\n",
    "import this"
   ]
  },
  {
   "cell_type": "markdown",
   "metadata": {},
   "source": [
    "# Lambda, map and reduce"
   ]
  },
  {
   "cell_type": "markdown",
   "metadata": {},
   "source": [
    "The 'lambda function' is quickest way to define a one-time used function"
   ]
  },
  {
   "cell_type": "code",
   "execution_count": null,
   "metadata": {
    "collapsed": true
   },
   "outputs": [],
   "source": [
    "# Comparing lambda function with normal function\n",
    "\n",
    "def square(x):\n",
    "    return x * x\n",
    "\n",
    "square_lambda = lambda x: x * x\n",
    "\n",
    "assert square(3) == square_lambda(3)\n",
    "print(' square: {}\\n square_lambda: {}'.format(square(3), square_lambda(3)))"
   ]
  },
  {
   "cell_type": "markdown",
   "metadata": {},
   "source": [
    "`map` can be used to apply a function to all the elements in a list or array."
   ]
  },
  {
   "cell_type": "code",
   "execution_count": null,
   "metadata": {},
   "outputs": [],
   "source": [
    "# map\n",
    "nums = [1, 2, 3, 4, 5]\n",
    "nums_squared = map(square, nums)\n",
    "nums_squared_lambda = map(lambda x: x * x, nums)\n",
    "\n",
    "print(list(nums_squared))\n",
    "print(list(nums_squared_lambda))"
   ]
  },
  {
   "cell_type": "code",
   "execution_count": null,
   "metadata": {},
   "outputs": [],
   "source": [
    "# change all the integers into str\n",
    "list(map(str, nums))\n",
    "\n",
    "# change all the integers into float\n",
    "list(map(float, nums))"
   ]
  },
  {
   "cell_type": "markdown",
   "metadata": {},
   "source": [
    "The `reduce(fun, seq)` function is used to apply a particular function passed in its argument to all of the list elements mentioned in the sequence passed along. Unlike the `map`, this function is defined seperately in “functools” module."
   ]
  },
  {
   "cell_type": "code",
   "execution_count": null,
   "metadata": {},
   "outputs": [],
   "source": [
    "# reduce\n",
    "from functools import reduce\n",
    "\n",
    "# computing 5!\n",
    "nums = [1, 2, 3, 4, 5]\n",
    "product = reduce(lambda x, y: x * y, nums)\n",
    "print(product)"
   ]
  },
  {
   "cell_type": "markdown",
   "metadata": {},
   "source": [
    "# List"
   ]
  },
  {
   "cell_type": "markdown",
   "metadata": {},
   "source": [
    "The most commonly used data type in python, you can use the `append` and `pop` method to add new element and remove the last element from the list. To remove a specific element, using the `del` command."
   ]
  },
  {
   "cell_type": "code",
   "execution_count": 6,
   "metadata": {
    "scrolled": true
   },
   "outputs": [
    {
     "name": "stdout",
     "output_type": "stream",
     "text": [
      "['Mon', 'Tue', 'Wed', 'Thu', 'Fri', 'Sat']\n",
      "['Mon', 'Tue', 'Wed', 'Thu', 'Fri']\n"
     ]
    }
   ],
   "source": [
    "weekdays = ['Mon', 'Tue', 'Wed', 'Thu', 'Fri']\n",
    "\n",
    "weekdays.append('Sat')\n",
    "print(weekdays)\n",
    "weekdays.pop()\n",
    "print(weekdays)"
   ]
  },
  {
   "cell_type": "code",
   "execution_count": 9,
   "metadata": {},
   "outputs": [
    {
     "name": "stdout",
     "output_type": "stream",
     "text": [
      "[1, 0.2, 0.3, 0.5, 2, 3, 4, 5]\n"
     ]
    }
   ],
   "source": [
    "# a fancy way to insert numbers\n",
    "nums = [1, 2, 3, 4, 5]\n",
    "\n",
    "nums[1:1] = [0.2, 0.3, 0.5]\n",
    "print(nums)"
   ]
  },
  {
   "cell_type": "markdown",
   "metadata": {},
   "source": [
    "One line to construct a list:"
   ]
  },
  {
   "cell_type": "code",
   "execution_count": 17,
   "metadata": {},
   "outputs": [
    {
     "data": {
      "text/plain": [
       "[1, 200, 3, 400, 5, 600, 7, 800, 9]"
      ]
     },
     "execution_count": 17,
     "metadata": {},
     "output_type": "execute_result"
    }
   ],
   "source": [
    "[x if x%2 else x*100 for x in range(1, 10)]"
   ]
  },
  {
   "cell_type": "markdown",
   "metadata": {},
   "source": [
    "## 1. Index and slicing\n",
    "\n",
    "Python list support negative index and also the magic slicing syntax: $[star:end:step]$. "
   ]
  },
  {
   "cell_type": "code",
   "execution_count": 7,
   "metadata": {},
   "outputs": [],
   "source": [
    "# define the list\n",
    "nums = [1, 2, 3, 4, 5]"
   ]
  },
  {
   "cell_type": "code",
   "execution_count": null,
   "metadata": {},
   "outputs": [],
   "source": [
    "# the last element of the list\n",
    "nums[-1]"
   ]
  },
  {
   "cell_type": "code",
   "execution_count": null,
   "metadata": {},
   "outputs": [],
   "source": [
    "# reverse the whole list\n",
    "nums[::-1]"
   ]
  },
  {
   "cell_type": "code",
   "execution_count": 8,
   "metadata": {},
   "outputs": [
    {
     "data": {
      "text/plain": [
       "[1, 3, 5]"
      ]
     },
     "execution_count": 8,
     "metadata": {},
     "output_type": "execute_result"
    }
   ],
   "source": [
    "# select every other number\n",
    "nums[::2]"
   ]
  },
  {
   "cell_type": "code",
   "execution_count": null,
   "metadata": {},
   "outputs": [],
   "source": [
    "# select every other number and reverse the order\n",
    "nums[-2::-2]"
   ]
  },
  {
   "cell_type": "markdown",
   "metadata": {},
   "source": [
    "## 3. Unpacking and swapping"
   ]
  },
  {
   "cell_type": "markdown",
   "metadata": {},
   "source": [
    "Unpacking a list by each element like this:"
   ]
  },
  {
   "cell_type": "code",
   "execution_count": null,
   "metadata": {},
   "outputs": [],
   "source": [
    "a = [1, 2, 3]\n",
    "x, y, z = a\n",
    "print(x, y, z)"
   ]
  },
  {
   "cell_type": "markdown",
   "metadata": {},
   "source": [
    "A more advanced unpacking can be find in the following [section](#The-usage-of-%22_%22). Also, swapping two elements is super easy:"
   ]
  },
  {
   "cell_type": "code",
   "execution_count": null,
   "metadata": {},
   "outputs": [],
   "source": [
    "print(x, y)\n",
    "x, y = y, x\n",
    "print(x, y)"
   ]
  },
  {
   "cell_type": "markdown",
   "metadata": {},
   "source": [
    "## 4. Flattening"
   ]
  },
  {
   "cell_type": "markdown",
   "metadata": {},
   "source": [
    "There are several ways to unpack a list, for a list of lists:"
   ]
  },
  {
   "cell_type": "code",
   "execution_count": null,
   "metadata": {},
   "outputs": [],
   "source": [
    "list_of_lists = [[1], [2, 3], [4, 5, 6]]\n",
    "sum(list_of_lists, [])"
   ]
  },
  {
   "cell_type": "markdown",
   "metadata": {},
   "source": [
    "To flatten a nested list, you may need the lambda function to flatten it recursively."
   ]
  },
  {
   "cell_type": "code",
   "execution_count": 10,
   "metadata": {},
   "outputs": [
    {
     "data": {
      "text/plain": [
       "[1, 2, 3, 4, 5, 6, 7, 8, 9, 10, 11, 12, 13]"
      ]
     },
     "execution_count": 10,
     "metadata": {},
     "output_type": "execute_result"
    }
   ],
   "source": [
    "nested_list = [[1, 2], [[3, 4], [5, 6], [[7, 8], [9, 10], [[11, [12, 13]]]]]]\n",
    "flatten = lambda x: [y for l in x for y in flatten(l)] if type(x) is list else [x]\n",
    "flatten(nested_list)"
   ]
  },
  {
   "cell_type": "markdown",
   "metadata": {},
   "source": [
    "Another tool to flatten a list is the `itertools`, which is newly introduced by Python3."
   ]
  },
  {
   "cell_type": "code",
   "execution_count": 12,
   "metadata": {},
   "outputs": [
    {
     "name": "stdout",
     "output_type": "stream",
     "text": [
      "[1, 2, 3, 4, 5, 6]\n",
      "[1, 2, [3, 4], [5, 6], [[7, 8], [9, 10], [[11, [12, 13]]]]]\n"
     ]
    }
   ],
   "source": [
    "import itertools\n",
    "a = [[1], [2, 3], [4, 5, 6]] \n",
    "print(list(itertools.chain.from_iterable(a)))"
   ]
  },
  {
   "cell_type": "markdown",
   "metadata": {},
   "source": [
    "## 5. enumerate and zip"
   ]
  },
  {
   "cell_type": "markdown",
   "metadata": {},
   "source": [
    "`enumerate` makes it easier to get the index and value of a list at the same time."
   ]
  },
  {
   "cell_type": "code",
   "execution_count": 13,
   "metadata": {
    "scrolled": true
   },
   "outputs": [
    {
     "name": "stdout",
     "output_type": "stream",
     "text": [
      "0 Mon\n",
      "1 Tue\n",
      "2 Wed\n",
      "3 Thu\n",
      "4 Fri\n"
     ]
    }
   ],
   "source": [
    "weekdays = ['Mon', 'Tue', 'Wed', 'Thu', 'Fri']\n",
    "for i,j in enumerate(weekdays):\n",
    "    print(i, j)"
   ]
  },
  {
   "cell_type": "markdown",
   "metadata": {},
   "source": [
    "An alternative ways is the `zip` function, which is to map the similar index of multiple containers so that they can be used just using as single entity. "
   ]
  },
  {
   "cell_type": "code",
   "execution_count": 14,
   "metadata": {},
   "outputs": [
    {
     "name": "stdout",
     "output_type": "stream",
     "text": [
      "0 Mon\n",
      "1 Tue\n",
      "2 Wed\n",
      "3 Thu\n",
      "4 Fri\n"
     ]
    }
   ],
   "source": [
    "nums = [0, 1, 2, 3, 4]\n",
    "weekdays = ['Mon', 'Tue', 'Wed', 'Thu', 'Fri']\n",
    "list(zip(nums, weekdays))\n",
    "for i,j in zip(nums, weekdays):\n",
    "    print(i, j)"
   ]
  },
  {
   "cell_type": "markdown",
   "metadata": {},
   "source": [
    "# iterator"
   ]
  },
  {
   "cell_type": "markdown",
   "metadata": {},
   "source": [
    "Iterator in Python is any Python type that can be used with a ‘for in loop’. In Python3, an iterator is the object which consist `__iter__()` and `__next__()` methods"
   ]
  },
  {
   "cell_type": "code",
   "execution_count": null,
   "metadata": {},
   "outputs": [],
   "source": [
    "class TestIterator: \n",
    "    # Cosntructor \n",
    "    def __init__(self, limit): \n",
    "        self.limit = limit \n",
    "    # Called when iteration is initialized \n",
    "    def __iter__(self): \n",
    "        self.x = 10\n",
    "        return self\n",
    "    # To move to next element\n",
    "    def __next__(self): \n",
    "        # Store current value ofx \n",
    "        x = self.x \n",
    "        # Stop iteration if limit is reached \n",
    "        if x > self.limit: \n",
    "            raise StopIteration \n",
    "        # Else increment and return old value \n",
    "        self.x = x + 1; \n",
    "        return x \n",
    "    \n",
    "for i in TestIterator(15): \n",
    "    print(i) "
   ]
  },
  {
   "cell_type": "code",
   "execution_count": null,
   "metadata": {},
   "outputs": [],
   "source": [
    "# The difference between list and iterator\n",
    "new_list = [1, 2, 3, 4]\n",
    "new_iterator = iter([1, 2, 3, 4])\n",
    "new_iterator"
   ]
  },
  {
   "cell_type": "code",
   "execution_count": null,
   "metadata": {},
   "outputs": [],
   "source": [
    "for item in new_list:\n",
    "    print(item)"
   ]
  },
  {
   "cell_type": "code",
   "execution_count": null,
   "metadata": {},
   "outputs": [],
   "source": [
    "for item in new_iterator:\n",
    "    print(item)"
   ]
  },
  {
   "cell_type": "markdown",
   "metadata": {},
   "source": [
    "Actually, all the Python internal type like list, tuple, dict and sets are all iterators. The commonly used functions `zip` and `map` return iterator by default, that is different from Python2. To print all the elements in `zip` and `map`, you need to convert them into list or print all the elements in a loop. "
   ]
  },
  {
   "cell_type": "code",
   "execution_count": null,
   "metadata": {},
   "outputs": [],
   "source": [
    "# different from python2\n",
    "nums = [0, 1, 2, 3, 4]\n",
    "weekdays = ['Mon', 'Tue', 'Wed', 'Thu', 'Fri']\n",
    "print(list(zip(nums, weekdays)))\n",
    "print(list(map(lambda x: x * x, nums)))"
   ]
  },
  {
   "cell_type": "code",
   "execution_count": null,
   "metadata": {},
   "outputs": [],
   "source": [
    "import itertools as it\n",
    "\n",
    "print(list(it.combinations([1, 2, 3], 2)))\n",
    "print(list(it.permutations(['a', 'b', 'c'])))\n",
    "print(list(it.repeat(2, 5)))"
   ]
  },
  {
   "cell_type": "markdown",
   "metadata": {},
   "source": [
    "# The usage of \"_\""
   ]
  },
  {
   "cell_type": "markdown",
   "metadata": {},
   "source": [
    "1. Refer to the last executed expression"
   ]
  },
  {
   "cell_type": "code",
   "execution_count": 15,
   "metadata": {},
   "outputs": [
    {
     "data": {
      "text/plain": [
       "20"
      ]
     },
     "execution_count": 15,
     "metadata": {},
     "output_type": "execute_result"
    }
   ],
   "source": [
    "a = 20\n",
    "a"
   ]
  },
  {
   "cell_type": "code",
   "execution_count": 16,
   "metadata": {},
   "outputs": [
    {
     "data": {
      "text/plain": [
       "20"
      ]
     },
     "execution_count": 16,
     "metadata": {},
     "output_type": "execute_result"
    }
   ],
   "source": [
    "_"
   ]
  },
  {
   "cell_type": "markdown",
   "metadata": {},
   "source": [
    "2. Ignoring the values"
   ]
  },
  {
   "cell_type": "code",
   "execution_count": null,
   "metadata": {},
   "outputs": [],
   "source": [
    "x, _, y = (1, 2, 3)\n",
    "print(x, y)"
   ]
  },
  {
   "cell_type": "code",
   "execution_count": null,
   "metadata": {},
   "outputs": [],
   "source": [
    "x, *_, y = (1, 2, 3, 4, 5)\n",
    "print(x, y)"
   ]
  },
  {
   "cell_type": "code",
   "execution_count": null,
   "metadata": {},
   "outputs": [],
   "source": [
    "for _ in range(3):\n",
    "    # do something for 10 times\n",
    "    print('Coffee break is great!')"
   ]
  },
  {
   "cell_type": "markdown",
   "metadata": {},
   "source": [
    "3. convention could be used for avoiding conflict with Python keywords (convention), like the 'class_' or 'list_' you can define."
   ]
  },
  {
   "cell_type": "markdown",
   "metadata": {},
   "source": [
    "4. separating digits of numbers using *underscore* for readability"
   ]
  },
  {
   "cell_type": "code",
   "execution_count": null,
   "metadata": {},
   "outputs": [],
   "source": [
    "a = 1_000_000\n",
    "a"
   ]
  },
  {
   "cell_type": "markdown",
   "metadata": {},
   "source": [
    "5. Magic method"
   ]
  },
  {
   "cell_type": "code",
   "execution_count": 26,
   "metadata": {},
   "outputs": [
    {
     "name": "stdout",
     "output_type": "stream",
     "text": [
      "{'__module__': '__main__', '__init__': <function A.__init__ at 0x11380c598>, '__len__': <function A.__len__ at 0x113817488>, '__str__': <function A.__str__ at 0x1138178c8>, '_A__mangling': <function A.__mangling at 0x113817620>, '__dict__': <attribute '__dict__' of 'A' objects>, '__weakref__': <attribute '__weakref__' of 'A' objects>, '__doc__': None}\n",
      "{'a': 1, '_A__b': 2}\n"
     ]
    }
   ],
   "source": [
    "class A:\n",
    "    def __init__(self, a, b):\n",
    "        self.a = a\n",
    "        self.__b = b\n",
    "    def __len__(self):\n",
    "        return 2\n",
    "    def __str__(self):\n",
    "        pass\n",
    "    def __mangling(self):\n",
    "        pass\n",
    "\n",
    "print(A.__dict__)\n",
    "\n",
    "a = A(1, 2)\n",
    "print(a.__dict__)"
   ]
  },
  {
   "cell_type": "markdown",
   "metadata": {},
   "source": [
    "For variable started with two underlines, it follows python “mangling” rules which adds the “_ClassName” to front of attribute names. It is used to avoid accidental overloading of methods and name conflicts with superclasses' attributes. It can be quite useful if you write a class that is expected to be extended many times. See [this](https://stackoverflow.com/questions/7456807/python-name-mangling) for detail."
   ]
  },
  {
   "cell_type": "markdown",
   "metadata": {},
   "source": [
    "6. Private naming"
   ]
  },
  {
   "cell_type": "code",
   "execution_count": null,
   "metadata": {},
   "outputs": [],
   "source": [
    "_internal_name = 'private_name' # private variable\n",
    "_internal_version = '1.0' # private variable\n",
    "class _Base: # private class\n",
    "    _hidden_factor = 2 # private variable    \n",
    "    def __init__(self, price):\n",
    "        self._price = price    \n",
    "    def _double_price(self): # private method\n",
    "        return self._price * self._hidden_factor    \n",
    "    def get_double_price(self):\n",
    "        return self._double_price() "
   ]
  },
  {
   "cell_type": "markdown",
   "metadata": {},
   "source": [
    "Alternative way to prevent users import all the class:"
   ]
  },
  {
   "cell_type": "code",
   "execution_count": 27,
   "metadata": {},
   "outputs": [],
   "source": [
    " __all__ = ['Class1', 'Class2']\n",
    "    \n",
    "class Class1:\n",
    "    pass\n",
    "class Class2:\n",
    "    pass\n",
    "class Class3:\n",
    "    pass"
   ]
  },
  {
   "cell_type": "markdown",
   "metadata": {},
   "source": [
    "# Formatting a string"
   ]
  },
  {
   "cell_type": "markdown",
   "metadata": {},
   "source": [
    "1. C-style string formatting"
   ]
  },
  {
   "cell_type": "code",
   "execution_count": null,
   "metadata": {},
   "outputs": [],
   "source": [
    "name = \"John\"\n",
    "age = 23\n",
    "print(\"%s is %d years old.\" % (name, age))"
   ]
  },
  {
   "cell_type": "markdown",
   "metadata": {},
   "source": [
    "'%s' can be used to covert any object to a string"
   ]
  },
  {
   "cell_type": "code",
   "execution_count": null,
   "metadata": {},
   "outputs": [],
   "source": [
    "mylist = [1,2,3]\n",
    "print(\"A list: %s\" % mylist)"
   ]
  },
  {
   "cell_type": "markdown",
   "metadata": {},
   "source": [
    "2. format (Python3+)"
   ]
  },
  {
   "cell_type": "code",
   "execution_count": null,
   "metadata": {},
   "outputs": [],
   "source": [
    "name = \"John\"\n",
    "age = 23\n",
    "print(\"{} is {} years old.\".format(name, age))\n",
    "print()"
   ]
  },
  {
   "cell_type": "markdown",
   "metadata": {},
   "source": [
    "3. The f-string expression (Python 3.6+)"
   ]
  },
  {
   "cell_type": "code",
   "execution_count": null,
   "metadata": {},
   "outputs": [],
   "source": [
    "name = 'world'\n",
    "print(f\"hello {name}\")"
   ]
  },
  {
   "cell_type": "markdown",
   "metadata": {},
   "source": [
    "4. Template string (standard library)"
   ]
  },
  {
   "cell_type": "code",
   "execution_count": null,
   "metadata": {},
   "outputs": [],
   "source": [
    "from string import Template\n",
    "t = Template('Hey, $name!')\n",
    "t.substitute(name=name)"
   ]
  },
  {
   "cell_type": "markdown",
   "metadata": {},
   "source": [
    "# The end"
   ]
  },
  {
   "cell_type": "markdown",
   "metadata": {},
   "source": [
    "If you think python is so great, please do not forget to check [What's the f*ck Python](https://github.com/satwikkansal/wtfpython)"
   ]
  },
  {
   "cell_type": "markdown",
   "metadata": {},
   "source": [
    "Also, another surprise:"
   ]
  },
  {
   "cell_type": "code",
   "execution_count": null,
   "metadata": {},
   "outputs": [],
   "source": [
    "import antigravity"
   ]
  },
  {
   "cell_type": "markdown",
   "metadata": {},
   "source": [
    "Reference:\n",
    "\n",
    "1. [Chip Huyen: Python is cool](https://github.com/chiphuyen/python-is-cool)\n",
    "2. [Hackernoon: What makes the Python Cool.](https://hackernoon.com/what-makes-the-python-cool-426e4c576685)\n",
    "3. [Hackernoon: Understanding the underscore( _ ) of Python](https://hackernoon.com/understanding-the-underscore-of-python-309d1a029edc)\n",
    "\n",
    "3. [GeekforGeeks: 10 Interesting Python Cool Tricks](https://www.geeksforgeeks.org/10-interesting-python-cool-tricks/)\n",
    "\n",
    "4. [RealPython: itertools in python3, By example](https://realpython.com/python-itertools/)\n",
    "\n",
    "5. [RealPython: Python String Formatting Best Practices](https://realpython.com/python-string-formatting/)\n",
    "\n",
    "\n",
    "\n",
    "Find python package:\n",
    "\n",
    "1. [Awesome-python](https://github.com/vinta/awesome-python)\n",
    "\n",
    "Python Coding guide\n",
    "\n",
    "[Google: Python Coding Style](https://google.github.io/styleguide/pyguide.html)\n",
    "\n"
   ]
  }
 ],
 "metadata": {
  "kernelspec": {
   "display_name": "Python 3",
   "language": "python",
   "name": "python3"
  },
  "language_info": {
   "codemirror_mode": {
    "name": "ipython",
    "version": 3
   },
   "file_extension": ".py",
   "mimetype": "text/x-python",
   "name": "python",
   "nbconvert_exporter": "python",
   "pygments_lexer": "ipython3",
   "version": "3.7.2"
  }
 },
 "nbformat": 4,
 "nbformat_minor": 2
}
